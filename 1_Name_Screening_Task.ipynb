{
 "cells": [
  {
   "cell_type": "markdown",
   "metadata": {},
   "source": [
    "# Task 1: Name Screening\n",
    "## Problem Description\n",
    "- Detect 50 Bad actors in our customer base using public data sources\n",
    "- Find as many bad actors as possible using NLP techniques to match customer names with watchlist and other relevant information given."
   ]
  },
  {
   "cell_type": "code",
   "execution_count": 15,
   "metadata": {},
   "outputs": [],
   "source": [
    "import pandas as pd\n",
    "import zipfile \n",
    "import warnings\n",
    "warnings.filterwarnings(\"ignore\")"
   ]
  },
  {
   "cell_type": "code",
   "execution_count": 16,
   "metadata": {},
   "outputs": [],
   "source": [
    "# unzip data\n",
    "with zipfile.ZipFile(\"data.zip\",\"r\") as zip_ref:\n",
    "    zip_ref.extractall()\n",
    "\n",
    "# load in relevant datasets\n",
    "df_kyc = pd.read_csv(\"UofT_nodes.csv\")\n",
    "df_bad = pd.read_csv(\"targets.simple.csv\", low_memory = False)\n",
    "\n",
    "# retain relevant columns\n",
    "df_kyc_cleaned = df_kyc[['NAME','BIRTH_DT']]\n",
    "df_bad_cleaned = df_bad[['name','birth_date']]\n",
    "\n",
    "df_kyc_cleaned.rename(columns={'NAME': 'name', 'BIRTH_DT': 'birth_date'}, inplace=True)"
   ]
  },
  {
   "cell_type": "code",
   "execution_count": 17,
   "metadata": {},
   "outputs": [],
   "source": [
    "# remove entried where name and birth_date are null for both datasets\n",
    "df_kyc_cleaned = df_kyc_cleaned[~df_kyc_cleaned['name'].isnull()].reset_index(drop=True)\n",
    "df_bad_cleaned = df_bad_cleaned[~df_bad_cleaned['name'].isnull()].reset_index(drop=True)"
   ]
  },
  {
   "cell_type": "code",
   "execution_count": 18,
   "metadata": {},
   "outputs": [],
   "source": [
    "# standardize the format of the birth date columns\n",
    "df_kyc_cleaned['birth_date_cleaned'] = pd.to_datetime(df_kyc_cleaned['birth_date'])\n",
    "df_bad_cleaned['birth_date_cleaned'] = pd.to_datetime(df_bad_cleaned['birth_date'].str.\\\n",
    "                                                      split(';', n=1, expand = True)[0],\n",
    "                                                      errors = 'coerce')"
   ]
  },
  {
   "cell_type": "code",
   "execution_count": 19,
   "metadata": {},
   "outputs": [
    {
     "data": {
      "text/plain": [
       "(262426, 3)"
      ]
     },
     "execution_count": 19,
     "metadata": {},
     "output_type": "execute_result"
    }
   ],
   "source": [
    "df_bad_cleaned.shape"
   ]
  },
  {
   "cell_type": "code",
   "execution_count": 20,
   "metadata": {},
   "outputs": [
    {
     "data": {
      "text/plain": [
       "(999340, 3)"
      ]
     },
     "execution_count": 20,
     "metadata": {},
     "output_type": "execute_result"
    }
   ],
   "source": [
    "df_kyc_cleaned.shape"
   ]
  },
  {
   "cell_type": "code",
   "execution_count": 21,
   "metadata": {},
   "outputs": [
    {
     "data": {
      "text/plain": [
       "Index(['name', 'birth_date', 'birth_date_cleaned'], dtype='object')"
      ]
     },
     "execution_count": 21,
     "metadata": {},
     "output_type": "execute_result"
    }
   ],
   "source": [
    "df_kyc_cleaned.columns"
   ]
  },
  {
   "cell_type": "code",
   "execution_count": 22,
   "metadata": {},
   "outputs": [
    {
     "data": {
      "text/plain": [
       "Index(['name', 'birth_date', 'birth_date_cleaned'], dtype='object')"
      ]
     },
     "execution_count": 22,
     "metadata": {},
     "output_type": "execute_result"
    }
   ],
   "source": [
    "df_bad_cleaned.columns"
   ]
  },
  {
   "cell_type": "markdown",
   "metadata": {},
   "source": [
    "## Method 1: String Grouper (Name + Birth Date Matched)\n",
    "https://github.com/Bergvca/string_grouper"
   ]
  },
  {
   "cell_type": "code",
   "execution_count": 23,
   "metadata": {},
   "outputs": [],
   "source": [
    "import pandas as pd\n",
    "# update numpy if running into string_grouper import issue\n",
    "# !pip install --upgrade numpy\n",
    "from string_grouper import match_strings"
   ]
  },
  {
   "cell_type": "code",
   "execution_count": 24,
   "metadata": {},
   "outputs": [
    {
     "data": {
      "text/html": [
       "<div>\n",
       "<style scoped>\n",
       "    .dataframe tbody tr th:only-of-type {\n",
       "        vertical-align: middle;\n",
       "    }\n",
       "\n",
       "    .dataframe tbody tr th {\n",
       "        vertical-align: top;\n",
       "    }\n",
       "\n",
       "    .dataframe thead th {\n",
       "        text-align: right;\n",
       "    }\n",
       "</style>\n",
       "<table border=\"1\" class=\"dataframe\">\n",
       "  <thead>\n",
       "    <tr style=\"text-align: right;\">\n",
       "      <th></th>\n",
       "      <th>left_index</th>\n",
       "      <th>left_name</th>\n",
       "      <th>similarity</th>\n",
       "      <th>right_name</th>\n",
       "      <th>right_index</th>\n",
       "    </tr>\n",
       "  </thead>\n",
       "  <tbody>\n",
       "    <tr>\n",
       "      <th>0</th>\n",
       "      <td>41139</td>\n",
       "      <td>David Robinson</td>\n",
       "      <td>0.847678</td>\n",
       "      <td>David ROBINSONOVA</td>\n",
       "      <td>4257</td>\n",
       "    </tr>\n",
       "    <tr>\n",
       "      <th>1</th>\n",
       "      <td>315806</td>\n",
       "      <td>David Robinson</td>\n",
       "      <td>0.847678</td>\n",
       "      <td>David ROBINSONOVA</td>\n",
       "      <td>4257</td>\n",
       "    </tr>\n",
       "    <tr>\n",
       "      <th>2</th>\n",
       "      <td>823753</td>\n",
       "      <td>David Robinson</td>\n",
       "      <td>0.847678</td>\n",
       "      <td>David ROBINSONOVA</td>\n",
       "      <td>4257</td>\n",
       "    </tr>\n",
       "    <tr>\n",
       "      <th>3</th>\n",
       "      <td>398002</td>\n",
       "      <td>James Mason</td>\n",
       "      <td>1.000000</td>\n",
       "      <td>James Mason</td>\n",
       "      <td>4482</td>\n",
       "    </tr>\n",
       "    <tr>\n",
       "      <th>4</th>\n",
       "      <td>759344</td>\n",
       "      <td>Daniel Martin</td>\n",
       "      <td>1.000000</td>\n",
       "      <td>Daniel Martin</td>\n",
       "      <td>4898</td>\n",
       "    </tr>\n",
       "    <tr>\n",
       "      <th>...</th>\n",
       "      <td>...</td>\n",
       "      <td>...</td>\n",
       "      <td>...</td>\n",
       "      <td>...</td>\n",
       "      <td>...</td>\n",
       "    </tr>\n",
       "    <tr>\n",
       "      <th>9529</th>\n",
       "      <td>793756</td>\n",
       "      <td>Sullivan, George Ortiz</td>\n",
       "      <td>0.801988</td>\n",
       "      <td>George Ortiz</td>\n",
       "      <td>262195</td>\n",
       "    </tr>\n",
       "    <tr>\n",
       "      <th>9530</th>\n",
       "      <td>111485</td>\n",
       "      <td>Ana Gonzalez</td>\n",
       "      <td>0.808516</td>\n",
       "      <td>Deanna Gonzalez</td>\n",
       "      <td>262199</td>\n",
       "    </tr>\n",
       "    <tr>\n",
       "      <th>9531</th>\n",
       "      <td>274916</td>\n",
       "      <td>Jon Wyatt</td>\n",
       "      <td>0.802506</td>\n",
       "      <td>Brandon Wyatt</td>\n",
       "      <td>262206</td>\n",
       "    </tr>\n",
       "    <tr>\n",
       "      <th>9532</th>\n",
       "      <td>790486</td>\n",
       "      <td>Linda Callahan</td>\n",
       "      <td>0.850643</td>\n",
       "      <td>Amanda Callahan</td>\n",
       "      <td>262254</td>\n",
       "    </tr>\n",
       "    <tr>\n",
       "      <th>9533</th>\n",
       "      <td>340419</td>\n",
       "      <td>aCa, Michael Guy</td>\n",
       "      <td>0.858337</td>\n",
       "      <td>Michael Guy</td>\n",
       "      <td>262269</td>\n",
       "    </tr>\n",
       "  </tbody>\n",
       "</table>\n",
       "<p>9534 rows × 5 columns</p>\n",
       "</div>"
      ],
      "text/plain": [
       "      left_index               left_name  similarity         right_name  \\\n",
       "0          41139          David Robinson    0.847678  David ROBINSONOVA   \n",
       "1         315806          David Robinson    0.847678  David ROBINSONOVA   \n",
       "2         823753          David Robinson    0.847678  David ROBINSONOVA   \n",
       "3         398002             James Mason    1.000000        James Mason   \n",
       "4         759344           Daniel Martin    1.000000      Daniel Martin   \n",
       "...          ...                     ...         ...                ...   \n",
       "9529      793756  Sullivan, George Ortiz    0.801988       George Ortiz   \n",
       "9530      111485            Ana Gonzalez    0.808516    Deanna Gonzalez   \n",
       "9531      274916               Jon Wyatt    0.802506      Brandon Wyatt   \n",
       "9532      790486          Linda Callahan    0.850643    Amanda Callahan   \n",
       "9533      340419        aCa, Michael Guy    0.858337        Michael Guy   \n",
       "\n",
       "      right_index  \n",
       "0            4257  \n",
       "1            4257  \n",
       "2            4257  \n",
       "3            4482  \n",
       "4            4898  \n",
       "...           ...  \n",
       "9529       262195  \n",
       "9530       262199  \n",
       "9531       262206  \n",
       "9532       262254  \n",
       "9533       262269  \n",
       "\n",
       "[9534 rows x 5 columns]"
      ]
     },
     "execution_count": 24,
     "metadata": {},
     "output_type": "execute_result"
    }
   ],
   "source": [
    "matches = match_strings(df_kyc_cleaned['name'], df_bad_cleaned['name'], n_blocks = 'auto')\n",
    "matches"
   ]
  },
  {
   "cell_type": "code",
   "execution_count": 26,
   "metadata": {},
   "outputs": [],
   "source": [
    "matches_cosine = matches.merge(df_kyc_cleaned.reset_index()[['index','birth_date_cleaned']], \n",
    "                            left_on='left_index',right_on='index',how='left')\\\n",
    "                      .drop(['index'],axis=1)\\\n",
    "                      .rename(columns={'birth_date_cleaned': 'kyc_bt'})\\\n",
    "                      .merge(df_bad_cleaned.reset_index()[['index','birth_date_cleaned']], \n",
    "                              left_on='right_index',right_on='index',how='left')\\\n",
    "                      .drop(['index'],axis=1)\\\n",
    "                      .rename(columns={'birth_date_cleaned': 'bad_bt'})"
   ]
  },
  {
   "cell_type": "markdown",
   "metadata": {},
   "source": [
    "## Method 2: FuzzyWuzzy (Name + Birth Date Matched)"
   ]
  },
  {
   "cell_type": "code",
   "execution_count": 27,
   "metadata": {},
   "outputs": [],
   "source": [
    "# Intermediate outputs from previous run of nested loop below (relatively long computation)\n",
    "matches_fuzzy = pd.read_csv(\"matches_fuzzy.csv\")"
   ]
  },
  {
   "cell_type": "code",
   "execution_count": 10,
   "metadata": {},
   "outputs": [
    {
     "name": "stdout",
     "output_type": "stream",
     "text": [
      "ALL DONE\n"
     ]
    }
   ],
   "source": [
    "df_kyc_cleaned['YEAR'] = df_kyc_cleaned['birth_date_cleaned'].astype('datetime64[ns]').dt.year\n",
    "df_bad_cleaned['year'] = df_bad_cleaned['birth_date_cleaned'].astype('datetime64[ns]').dt.year\n",
    "\n",
    "count = 0\n",
    "\n",
    "namelist = [] \n",
    "namebirthlist = []\n",
    "scorelist = []\n",
    "targetlist = []\n",
    "targetbirthlist = []\n",
    "\n",
    "for j in tqdm(range(len(df_bad_cleaned))) : \n",
    "\n",
    "    # print(name_solid.iloc[i,:])\n",
    "    target = df_bad_cleaned.iloc[j,:]['name']\n",
    "    dob = df_bad_cleaned.iloc[j,:]['birth_date_cleaned']\n",
    "    year = df_bad_cleaned.iloc[j,:]['year']\n",
    "    # table_name_solid = name_solid[name_solid['birth_date_cleaned'] == i].reset_index(drop = True)\n",
    "    table_node = df_kyc_cleaned[df_kyc_cleaned['birth_date_cleaned'] == dob].reset_index(drop = True)\n",
    "\n",
    "    alist = [] # storing each score compared with all people in same brithday\n",
    "    for i in table_node.name.values : \n",
    "        alist.append(fuzz.token_sort_ratio(target, i))\n",
    "    # print(max(alist), alist.index(max(alist)))\n",
    "    if alist == [] :\n",
    "        pass\n",
    "    else :\n",
    "        responseName = table_node.name.values[alist.index(max(alist))]\n",
    "        responseBirth = table_node.birth_dt_cleaned.values[alist.index(max(alist))]\n",
    "        score = max(alist)\n",
    "        if score > 60 :\n",
    "            #print(f'Comes:  {target}, -----> : {responseName}, --> scoring {max(alist)}')\n",
    "            namelist.append(responseName)\n",
    "            namebirthlist.append(responseBirth)\n",
    "            scorelist.append(max(alist))\n",
    "            targetlist.append(target)\n",
    "            targetbirthlist.append(dob)\n",
    "    # if count == 100 : # test uing first several rows\n",
    "    #     break\n",
    "    # count += 1\n",
    "\n",
    "print('ALL DONE')\n",
    "\n",
    "print('ALL DONE')"
   ]
  },
  {
   "cell_type": "code",
   "execution_count": 11,
   "metadata": {},
   "outputs": [],
   "source": [
    "matches_fuzzy = pd.DataFrame({'BadActor' : targetlist, \n",
    "                       'BadActor_Birth' : targetbirthlist, \n",
    "                       'Found_Name' : namelist, \n",
    "                       'Found_Name_Birth' : namebirthlist,\n",
    "                       'Score' : scorelist})"
   ]
  },
  {
   "cell_type": "markdown",
   "metadata": {},
   "source": [
    "## Compile Results (Name + Birth Date Matched)"
   ]
  },
  {
   "cell_type": "code",
   "execution_count": 59,
   "metadata": {},
   "outputs": [],
   "source": [
    "# Matched name and birth date from method 1\n",
    "df_cosine_manual_matches = matches_cosine[matches_cosine['kyc_bt'] == matches_cosine['bad_bt']]\n",
    "\n",
    "cosine_name_matches = df_cosine_manual_matches['left_name'].to_list()"
   ]
  },
  {
   "cell_type": "code",
   "execution_count": 60,
   "metadata": {},
   "outputs": [],
   "source": [
    "# Matched name and birth date from method 2 THEN 1\n",
    "cosine_fuzzy_matches = match_strings(matches_fuzzy['BadActor'], \n",
    "                                     matches_fuzzy['Found_Name'],\n",
    "                                     n_blocks = 'auto')['right_Found_Name'].tolist()"
   ]
  },
  {
   "cell_type": "code",
   "execution_count": 77,
   "metadata": {},
   "outputs": [],
   "source": [
    "# Matched name and birth date from method 2\n",
    "# manual search through entries where Score is above 75\n",
    "# matches_fuzzy[matches_fuzzy['Score'] >= 65]\n",
    "\n",
    "fuzzy_manual_matches = [715 ,203, 916, 820, 48, 661, 1108, 739, 338, 1189, \n",
    "                        725, 606, 988, 401, 580, 1025, 102, 825, 721, 242,\n",
    "                        740, 594, 741, 68, 909, 66, 1195, 317, 699, 291, 722,\n",
    "                        757, 53, 489, 833, 643, 763, 616, 124, 950]\n",
    "\n",
    "df_fuzzy_manual_matches = matches_fuzzy.filter(items=fuzzy_manual_matches, axis=0)\n",
    "fuzzy_name_matches = df_fuzzy_manual_matches['Found_Name'].to_list()"
   ]
  },
  {
   "cell_type": "code",
   "execution_count": 81,
   "metadata": {
    "scrolled": false
   },
   "outputs": [],
   "source": [
    "# Merge the two lists\n",
    "matches_final = df_kyc[df_kyc['NAME'].isin(fuzzy_name_matches + cosine_fuzzy_matches + cosine_name_matches)]\n",
    "matches_final.to_csv('badactor_foundin_kyc_bt_match.csv')"
   ]
  },
  {
   "cell_type": "code",
   "execution_count": 86,
   "metadata": {},
   "outputs": [],
   "source": [
    "# Submitted version\n",
    "matches_final[[\"NAME\",\"CUSTOMER_ID\"]].reset_index(drop=True).to_csv(\"0_final_badactors_list.csv\")"
   ]
  }
 ],
 "metadata": {
  "kernelspec": {
   "display_name": "Python 3",
   "language": "python",
   "name": "python3"
  },
  "language_info": {
   "codemirror_mode": {
    "name": "ipython",
    "version": 3
   },
   "file_extension": ".py",
   "mimetype": "text/x-python",
   "name": "python",
   "nbconvert_exporter": "python",
   "pygments_lexer": "ipython3",
   "version": "3.7.6"
  }
 },
 "nbformat": 4,
 "nbformat_minor": 4
}
